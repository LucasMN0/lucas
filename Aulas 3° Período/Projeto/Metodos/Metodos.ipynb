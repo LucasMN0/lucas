{
 "cells": [
  {
   "cell_type": "code",
   "execution_count": 3,
   "id": "91f92a50",
   "metadata": {},
   "outputs": [
    {
     "name": "stdout",
     "output_type": "stream",
     "text": [
      "\n",
      "Valor interpolado em x = 2.5 é igual a: 6.25 utilizando as diferenças divididas\n"
     ]
    }
   ],
   "source": [
    "import numpy as np\n",
    "import matplotlib.pyplot as plt\n",
    "\n",
    "\n",
    "def diferencas_divididas(x, y):\n",
    "    n = len(x)\n",
    "    tabela = np.zeros((n, n))\n",
    "    tabela[:, 0] = y\n",
    "    \n",
    "    for j in range(1, n):\n",
    "        for i in range(n - j):\n",
    "            tabela[i][j] = (tabela[i+1][j-1] - tabela[i][j-1]) / (x[i+j] - x[i])\n",
    "\n",
    "    return tabela\n",
    "\n",
    "def polinomio_newton(x, tabela, valor):\n",
    "    n = len(x)\n",
    "    resultado = tabela[0, 0]\n",
    "    termo = 1.0\n",
    "\n",
    "    for i in range(1, n):\n",
    "        termo *= (valor - x[i-1])\n",
    "        resultado += tabela[0, i] * termo\n",
    "\n",
    "    return resultado\n",
    "\n",
    "x = np.array([1.0, 2.0, 3.0, 4.0])\n",
    "y = np.array([1.0, 4.0, 9.0, 16.0])\n",
    "\n",
    "tabela = diferencas_divididas(x, y)\n",
    "valor = 2.5\n",
    "\n",
    "print(f\"\\nValor interpolado em x = {valor} é igual a: {polinomio_newton(x, tabela, valor)} utilizando as diferenças divididas\")"
   ]
  }
 ],
 "metadata": {
  "kernelspec": {
   "display_name": "Python 3",
   "language": "python",
   "name": "python3"
  },
  "language_info": {
   "codemirror_mode": {
    "name": "ipython",
    "version": 3
   },
   "file_extension": ".py",
   "mimetype": "text/x-python",
   "name": "python",
   "nbconvert_exporter": "python",
   "pygments_lexer": "ipython3",
   "version": "3.8.10"
  }
 },
 "nbformat": 4,
 "nbformat_minor": 5
}
